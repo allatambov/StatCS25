{
 "cells": [
  {
   "cell_type": "markdown",
   "metadata": {},
   "source": [
    "# Теория вероятностей и математическая статистика\n",
    "\n",
    "## Дополнительно: введение в иерархический кластерный анализ\n",
    "\n",
    "*Алла Тамбовцева, НИУ ВШЭ* "
   ]
  },
  {
   "cell_type": "markdown",
   "metadata": {},
   "source": [
    "### Часть 1: используем готовые функции Python\n",
    "\n",
    "Попробуем воспроизвести действия по реализации иерархического кластерного анализа в задаче из семинарского листочка. Итак, у нас есть данные по четырём наблюдениям:\n",
    "\n",
    "<table>\n",
    "    <tr><th>X</th><th>Y</th></tr>\n",
    "    <tr><td>0</td><td>4</td></tr>\n",
    "    <tr><td>7</td><td>0</td></tr>\n",
    "    <tr><td>1</td><td>2</td></tr>\n",
    "    <tr><td>4</td><td>2</td></tr>\n",
    "</table>\n",
    "\n",
    "Необходимо реализовать иерархический кластерный анализ, выбрав в качестве метрики **манхэттенское расстояние** и **метод дальнего соседа** в качестве метода агрегирования. Импортируем библиотеку `numpy` и сохраним данные в виде двух массивов:"
   ]
  },
  {
   "cell_type": "code",
   "execution_count": 1,
   "metadata": {},
   "outputs": [],
   "source": [
    "import numpy as np"
   ]
  },
  {
   "cell_type": "code",
   "execution_count": 2,
   "metadata": {},
   "outputs": [
    {
     "name": "stdout",
     "output_type": "stream",
     "text": [
      "[0 7 1 4] [4 0 2 2]\n"
     ]
    }
   ],
   "source": [
    "# данные\n",
    "x = np.array([0, 7, 1, 4])\n",
    "y = np.array([4, 0, 2, 2])\n",
    "print(x, y)"
   ]
  },
  {
   "cell_type": "markdown",
   "metadata": {},
   "source": [
    "Перед вычислением расстояний данные необходимо центрировать (вычесть среднее) и нормировать (поделить результат на стандартное отклонение). Вычислим средние выборок:"
   ]
  },
  {
   "cell_type": "code",
   "execution_count": 3,
   "metadata": {},
   "outputs": [
    {
     "name": "stdout",
     "output_type": "stream",
     "text": [
      "3.0\n",
      "2.0\n"
     ]
    }
   ],
   "source": [
    "print(x.mean())\n",
    "print(y.mean())"
   ]
  },
  {
   "cell_type": "markdown",
   "metadata": {},
   "source": [
    "Вычислим стандартные отклонения выборок. По умолчанию в NumPy используется формула с делением на $n$, чтобы получить привычное деление на $n-1$, добавляем аргумент `ddof = 1`:"
   ]
  },
  {
   "cell_type": "code",
   "execution_count": 4,
   "metadata": {},
   "outputs": [
    {
     "name": "stdout",
     "output_type": "stream",
     "text": [
      "3.0\n",
      "2.0\n"
     ]
    }
   ],
   "source": [
    "# ddof - degrees of freedom\n",
    "# .round() – сразу округляем до целых, как на семинаре\n",
    "\n",
    "print(x.std(ddof = 1).round())\n",
    "print(y.std(ddof = 1).round())"
   ]
  },
  {
   "cell_type": "markdown",
   "metadata": {},
   "source": [
    "Выполняем стандартизацию – массивы позволяют производить операции сразу со всеми элементами массива без циклов:"
   ]
  },
  {
   "cell_type": "code",
   "execution_count": 5,
   "metadata": {},
   "outputs": [
    {
     "name": "stdout",
     "output_type": "stream",
     "text": [
      "[-1.    1.33 -0.67  0.33]\n",
      "[ 1. -1.  0.  0.]\n"
     ]
    }
   ],
   "source": [
    "# как на семинаре округляем итог до 1 знака после запятой\n",
    "\n",
    "x_norm = ((x - x.mean()) / x.std(ddof = 1).round()).round(2)\n",
    "y_norm = ((y - y.mean()) / y.std(ddof = 1).round()).round(2)\n",
    "\n",
    "print(x_norm)\n",
    "print(y_norm)"
   ]
  },
  {
   "cell_type": "markdown",
   "metadata": {},
   "source": [
    "Для удобства объединяем два массива в один – по столбцам:"
   ]
  },
  {
   "cell_type": "code",
   "execution_count": 6,
   "metadata": {},
   "outputs": [
    {
     "data": {
      "text/plain": [
       "array([[-1.  ,  1.  ],\n",
       "       [ 1.33, -1.  ],\n",
       "       [-0.67,  0.  ],\n",
       "       [ 0.33,  0.  ]])"
      ]
     },
     "execution_count": 6,
     "metadata": {},
     "output_type": "execute_result"
    }
   ],
   "source": [
    "# column_stack() – по столбцам\n",
    "# на входе – либо список, либо кортеж\n",
    "\n",
    "A = np.column_stack((x_norm, y_norm))\n",
    "A"
   ]
  },
  {
   "cell_type": "markdown",
   "metadata": {},
   "source": [
    "Для реализации иерархического кластерного анализа нам понадобится набор функций `hierarchy` из модуля `cluster` библиотеки `scipy` (от *Scientific Python*):"
   ]
  },
  {
   "cell_type": "code",
   "execution_count": 7,
   "metadata": {},
   "outputs": [],
   "source": [
    "from scipy.cluster import hierarchy"
   ]
  },
  {
   "cell_type": "markdown",
   "metadata": {},
   "source": [
    "Для получения результатов воспользуемся функцией `linkage()`, она принимает на вход:\n",
    "\n",
    "* данные (массив или более привычный датафрейм)\n",
    "* метод агрегирования (аргумент `method`)\n",
    "* меру расстояния (аргумент `metric`)\n",
    "\n",
    "и возвращает результаты, необходимые для последующего построения дендрограммы. \n",
    "\n",
    "По умолчанию эта функция использует **евклидово расстояние** (`metric='euclidean'`) и **метод ближнего соседа**, он же метод одиночной связи (`method='single'`). Полный список значений `metric` можно найти [здесь](https://docs.scipy.org/doc/scipy/reference/generated/scipy.spatial.distance.pdist.html#scipy.spatial.distance.pdist), список методов агрегирования – [здесь](https://docs.scipy.org/doc/scipy/reference/generated/scipy.cluster.hierarchy.linkage.html). Нам нужно **манхэттенское расстояние** и **метод дальнего соседа**:"
   ]
  },
  {
   "cell_type": "code",
   "execution_count": 8,
   "metadata": {},
   "outputs": [],
   "source": [
    "# манхэттенское расстояние = блочное = cityblock\n",
    "# метод дальнего соседа = метод полной связи = complete\n",
    "\n",
    "hc = hierarchy.linkage(A, method = \"complete\", metric = \"cityblock\")"
   ]
  },
  {
   "cell_type": "markdown",
   "metadata": {},
   "source": [
    "В каком виде функция `linkage()` возвращает результаты?"
   ]
  },
  {
   "cell_type": "code",
   "execution_count": 9,
   "metadata": {},
   "outputs": [
    {
     "data": {
      "text/plain": [
       "array([[2.  , 3.  , 1.  , 2.  ],\n",
       "       [0.  , 4.  , 2.33, 3.  ],\n",
       "       [1.  , 5.  , 4.33, 4.  ]])"
      ]
     },
     "execution_count": 9,
     "metadata": {},
     "output_type": "execute_result"
    }
   ],
   "source": [
    "hc"
   ]
  },
  {
   "cell_type": "markdown",
   "metadata": {},
   "source": [
    "В виде специфического массива размерности $(n-1)$ на 4, где $n$ – число наблюдений. Каждая строчка последовательно описывает каждый этап иерархической кластеризации – объединения точек. Чтобы понять, что представляют значения в этих строчках, построим дендрограмму – вызовем функцию `dendrogram()`:"
   ]
  },
  {
   "cell_type": "code",
   "execution_count": 10,
   "metadata": {},
   "outputs": [
    {
     "data": {
      "image/png": "[encoded data removed]",
      "text/plain": [
       "<Figure size 432x288 with 1 Axes>"
      ]
     },
     "metadata": {
      "needs_background": "light"
     },
     "output_type": "display_data"
    }
   ],
   "source": [
    "hierarchy.dendrogram(hc);"
   ]
  },
  {
   "cell_type": "markdown",
   "metadata": {},
   "source": [
    "Первая строчка в `hc` описывает следующее: точка под номером 2 объединяется с точкой под номером 3 на расстоянии 1 в кластер, в этом кластере в итоге находятся два наблюдения. Вторая строчка в `hc` описывает следующий этап кластеризации: точка под номером 0 присоединяется к кластеру под номером 4 (Python сам пронумеровал созданный ранее кластер, точки имеют индексы от 0 до 3, он взял следующее число) на расстоянии 2.3, итого в кластере уже три наблюдения. Третья строка соответствует завершающему этапу кластеризации – точка под номером 1 присодиняется к вновь образованному кластеру под номером 5 (номер 4 уже был) на расстоянии 4.3, всего в этом большом кластере четыре точки, все наблюдения задействованы, объединение завершено.\n",
    "\n",
    "Как обычно, дендрограмма показывает все возможные разбиения на кластеры, но Python ещё сам «подсвечивает» цветом, какие группы будет разумно выделить. Здесь он намекает на то, что деление на группы можно провести по некоторому расстоянию, чтобы получить кластер из одной точки (синий цвет) и кластер из трёх точек (оранжевый цвет). Для получения такого разбиения по умолчанию используется значение \n",
    "`0.7 * max(hc[:, 2])`, где `max(hc[:, 2])` – максимальное из расстояний между кластерами, которое находится в третьем столбце `hc`. В нашем примере это 0.7 * 4.3 = 3.01. В целом, на эти значения можно ориентироваться, но всё же тут многое зависит от нашей задачи и содержательной информации о данных.\n",
    "\n",
    "Это пороговое значение для выделения кластеров можно менять – так как от него зависят цвета, аргумент называется `color_threshold`:"
   ]
  },
  {
   "cell_type": "code",
   "execution_count": 11,
   "metadata": {},
   "outputs": [
    {
     "data": {
      "image/png": "[encoded data removed]",
      "text/plain": [
       "<Figure size 432x288 with 1 Axes>"
      ]
     },
     "metadata": {
      "needs_background": "light"
     },
     "output_type": "display_data"
    }
   ],
   "source": [
    "# три кластера, два по одному наблюдению\n",
    "# и один – из двух наблюдений\n",
    "\n",
    "hierarchy.dendrogram(hc, color_threshold = 1.5);"
   ]
  },
  {
   "cell_type": "markdown",
   "metadata": {},
   "source": [
    "При желании добавление разных цветов можно выключить (`color_threshold = 0`) и просто добавить горизонтальную линию. Для этого импортируем модуль `pyplot` из библиотеки `matplotlib` для графики:"
   ]
  },
  {
   "cell_type": "code",
   "execution_count": 12,
   "metadata": {},
   "outputs": [],
   "source": [
    "from matplotlib import pyplot as plt"
   ]
  },
  {
   "cell_type": "code",
   "execution_count": 13,
   "metadata": {},
   "outputs": [
    {
     "data": {
      "image/png": "[encoded data removed]",
      "text/plain": [
       "<Figure size 1152x648 with 1 Axes>"
      ]
     },
     "metadata": {
      "needs_background": "light"
     },
     "output_type": "display_data"
    }
   ],
   "source": [
    "# резервируем место под график 16 на 9 дюймов\n",
    "# строим дендрограмму, в тех же осях добавляем горизонтальную линию (hlines)\n",
    "# линия на уровне y = 1.5 красного цвета \n",
    "# xmin и xmax – границы по оси X\n",
    "\n",
    "plt.figure(figsize = (16, 9))\n",
    "hierarchy.dendrogram(hc, color_threshold = 0)\n",
    "plt.hlines(y = 1.5, xmin = 0, xmax = 50, color = \"red\");"
   ]
  },
  {
   "cell_type": "markdown",
   "metadata": {},
   "source": [
    "Для полного счастья можем сделать линию пунктирной (аргумент `linestyle`) и добавить точки в местах «разрезания» дендрограммы:"
   ]
  },
  {
   "cell_type": "code",
   "execution_count": 14,
   "metadata": {},
   "outputs": [
    {
     "data": {
      "image/png": "[encoded data removed]",
      "text/plain": [
       "<Figure size 1152x648 with 1 Axes>"
      ]
     },
     "metadata": {
      "needs_background": "light"
     },
     "output_type": "display_data"
    }
   ],
   "source": [
    "plt.figure(figsize = (16, 9))\n",
    "hierarchy.dendrogram(hc, color_threshold = 0)\n",
    "plt.hlines(y = 1.5, xmin = 0, xmax = 50, color = \"red\", linestyle = \"dashed\");\n",
    "\n",
    "# на первом и втором местах – координаты точек по осям x и y\n",
    "# marker – тип точки, color – цвет точки, markeredgecolor – цвет границ точки\n",
    "\n",
    "plt.plot(5, 1.5, marker = 'o', color = \"red\", markeredgecolor = \"tab:blue\");\n",
    "plt.plot(15, 1.5, marker = 'o', color = \"red\", markeredgecolor = \"tab:blue\");\n",
    "plt.plot(30, 1.5, marker = 'o', color = \"red\", markeredgecolor = \"tab:blue\");"
   ]
  },
  {
   "cell_type": "markdown",
   "metadata": {},
   "source": [
    "Откуда взялись значения в `plot()`? Это координаты на основе точек для соединительных линий, сохранённых в объекте, который создаётся при построении дендрограммы. Если после строки с кодом для дендрограммы не ставить точку с запятой, мы его увидим:"
   ]
  },
  {
   "cell_type": "code",
   "execution_count": 15,
   "metadata": {},
   "outputs": [
    {
     "data": {
      "text/plain": [
       "{'icoord': [[25.0, 25.0, 35.0, 35.0],\n",
       "  [15.0, 15.0, 30.0, 30.0],\n",
       "  [5.0, 5.0, 22.5, 22.5]],\n",
       " 'dcoord': [[0.0, 1.0, 1.0, 0.0],\n",
       "  [0.0, 2.33, 2.33, 1.0],\n",
       "  [0.0, 4.33, 4.33, 2.33]],\n",
       " 'ivl': ['1', '0', '2', '3'],\n",
       " 'leaves': [1, 0, 2, 3],\n",
       " 'color_list': ['C1', 'C1', 'C0'],\n",
       " 'leaves_color_list': ['C0', 'C1', 'C1', 'C1']}"
      ]
     },
     "execution_count": 15,
     "metadata": {},
     "output_type": "execute_result"
    },
    {
     "data": {
      "image/png": "[encoded data removed]",
      "text/plain": [
       "<Figure size 432x288 with 1 Axes>"
      ]
     },
     "metadata": {
      "needs_background": "light"
     },
     "output_type": "display_data"
    }
   ],
   "source": [
    "# icoord и dcoord – координаты для соединительных линий (веток дендрограммы)\n",
    "hierarchy.dendrogram(hc)"
   ]
  },
  {
   "cell_type": "markdown",
   "metadata": {},
   "source": [
    "Тут сложновато, разберём несколько точек. Возьмём первые два значения в первом списке в `icoord` и `dcoord`, это [25.0, 25.0] и [0.0, 1.0]. Если сформировать пары (25, 0) и (25, 1), получим две точки, если соединим эти точки на дендрограмме, получится вертикальная линия для «листика» с наблюдением под номером 2. Если проделаем это для следующих двух значений в тех же списках, получим точки (35, 1) и (35, 0), соединим их – получим вертикальную линию для «листика» с наблюдением под номером 3. Вторые списки в `icoord` и `dcoord` описывают вертикальные ветки для соединения точки 0 и кластера из точек 2 и 3, третьи – вертикальные ветки для соединения точки 1 и кластера из точек 0, 2 и 3. Горизонтальные линии далее отрисовываются автоматически. \n",
    "\n",
    "Теперь, если вернуться к координатам для красных точек на предыдущей дендрограмме, должно стать понятнее, почему значения по оси X именно 5, 15 и 30 :) А про типы и настройки точек можно почитать [здесь](https://matplotlib.org/stable/gallery/lines_bars_and_markers/marker_reference.html).\n",
    "\n",
    "Ну, и для полного-полного счастья заменим индексы точек на какие-то свои названия (метки `labels`) и выгрузим дендрограмму в png-файл:"
   ]
  },
  {
   "cell_type": "code",
   "execution_count": 16,
   "metadata": {},
   "outputs": [
    {
     "data": {
      "image/png": "[encoded data removed]",
      "text/plain": [
       "<Figure size 1152x648 with 1 Axes>"
      ]
     },
     "metadata": {
      "needs_background": "light"
     },
     "output_type": "display_data"
    }
   ],
   "source": [
    "plt.figure(figsize = (16, 9))\n",
    "hierarchy.dendrogram(hc, color_threshold = 0, labels = [\"A\", \"B\", \"C\", \"D\"])\n",
    "\n",
    "plt.hlines(y = 1.5, xmin = 0, xmax = 50, color = \"red\", linestyle = \"dashed\");\n",
    "plt.plot(5, 1.5, marker = 'o', color = \"red\", markeredgecolor = \"tab:blue\");\n",
    "plt.plot(15, 1.5, marker = 'o', color = \"red\", markeredgecolor = \"tab:blue\");\n",
    "plt.plot(30, 1.5, marker = 'o', color = \"red\", markeredgecolor = \"tab:blue\");\n",
    "\n",
    "plt.savefig(\"example00.png\")"
   ]
  },
  {
   "cell_type": "markdown",
   "metadata": {},
   "source": [
    "### Часть 2: используем свои матрицы расстояний (дополнительно)\n",
    "\n",
    "Иногда возникает необходимость использовать уже готовые матрицы расстояний для дальнейшей реализации кластерного анализа. Это может быть связано с разными причинами: разработали свою метрику, которой нет в Python, нашли готовые данные по расстояниям для большого массива данных в интернете (пересчитывать заново затратно с точки зрения затрат времени и памяти), хочется проверить домашнее задание с учётом разных округлений... Глобальных проблем нет, но есть одна особенность функции `linkage()`, которую нужно учесть.\n",
    "\n",
    "Давайте для полноты картины создадим свою матрицу расстояний с нуля. Но функции для вычисления расстояний свои писать не будем – воспользуемся набором функций `distance` из модуля `spatial` внутри `scipy`:"
   ]
  },
  {
   "cell_type": "code",
   "execution_count": 17,
   "metadata": {},
   "outputs": [],
   "source": [
    "from scipy.spatial import distance"
   ]
  },
  {
   "cell_type": "markdown",
   "metadata": {},
   "source": [
    "В массиве `A`у нас четыре точки, значит, матрица расстояний будет иметь размер четыре на четыре. Зафиксируем это автоматически – вычислим форму массива `A`:"
   ]
  },
  {
   "cell_type": "code",
   "execution_count": 18,
   "metadata": {},
   "outputs": [
    {
     "name": "stdout",
     "output_type": "stream",
     "text": [
      "(4, 2)\n"
     ]
    }
   ],
   "source": [
    "# число строк и число столбцов\n",
    "print(A.shape)"
   ]
  },
  {
   "cell_type": "markdown",
   "metadata": {},
   "source": [
    "С помощью функции `zeros()` из библиотеки `numpy` создадим матрицу расстояний из одних нулей, чтобы потом аккуратно заполнить её в цикле:"
   ]
  },
  {
   "cell_type": "code",
   "execution_count": 19,
   "metadata": {},
   "outputs": [
    {
     "data": {
      "text/plain": [
       "array([[0., 0., 0., 0.],\n",
       "       [0., 0., 0., 0.],\n",
       "       [0., 0., 0., 0.],\n",
       "       [0., 0., 0., 0.]])"
      ]
     },
     "execution_count": 19,
     "metadata": {},
     "output_type": "execute_result"
    }
   ],
   "source": [
    "D = np.zeros((A.shape[0], A.shape[0]))\n",
    "D"
   ]
  },
  {
   "cell_type": "markdown",
   "metadata": {},
   "source": [
    "Для вычисления манхэттенского расстояния мы будем использовать функцию `cityblock()` из набора `distance`:"
   ]
  },
  {
   "cell_type": "code",
   "execution_count": 20,
   "metadata": {},
   "outputs": [
    {
     "data": {
      "text/plain": [
       "array([[0.  , 4.33, 1.33, 2.33],\n",
       "       [4.33, 0.  , 3.  , 2.  ],\n",
       "       [1.33, 3.  , 0.  , 1.  ],\n",
       "       [2.33, 2.  , 1.  , 0.  ]])"
      ]
     },
     "execution_count": 20,
     "metadata": {},
     "output_type": "execute_result"
    }
   ],
   "source": [
    "# i и j – номера наблюдений, оба от 0 до 4\n",
    "# мы вычисляем расстояния между наблюдениями с номерами i и j в A\n",
    "# и помещаем ответ в матрицу D в i-ую строку и j-ый столбец\n",
    "\n",
    "for i in range(0, A.shape[0]):\n",
    "    for j in range(0, A.shape[0]):\n",
    "        D[i, j] = distance.cityblock(A[i], A[j]) \n",
    "D"
   ]
  },
  {
   "cell_type": "markdown",
   "metadata": {},
   "source": [
    "Такой способ получения матрицы расстояний вполне понятный, но неэффективный, а для огромного числа наблюдений просто убийственный! Во-первых, мы всё равно вычисляем нулевые расстояния на главной диагонали матрицы – хорошо бы добавить условие `if i != j`, чтобы нули на диагонали остались ещё с момента заполнения нулями, не обновлялись. Во-вторых, мы считаем расстояния между точками по два раза, не пользуясь симметричностью – ещё лучше добавить условие `if i > j` или `if i < j` и посчитать всего 6 различных расстояний. \n",
    "\n",
    "Так вот, Python, конечно, действует более рационально, поэтому функция `linkage()` внутри использует не полную матрицу расстояний, а её компактную версию. Что будет, если мы подадим ей на вход нашу матрицу `D`, верную, но избыточную?"
   ]
  },
  {
   "cell_type": "code",
   "execution_count": 21,
   "metadata": {},
   "outputs": [
    {
     "name": "stderr",
     "output_type": "stream",
     "text": [
      "/opt/anaconda3/lib/python3.7/site-packages/ipykernel_launcher.py:4: ClusterWarning: scipy.cluster: The symmetric non-negative hollow observation matrix looks suspiciously like an uncondensed distance matrix\n",
      "  after removing the cwd from sys.path.\n"
     ]
    },
    {
     "data": {
      "text/plain": [
       "array([[2.        , 3.        , 2.        , 2.        ],\n",
       "       [0.        , 4.        , 4.04914806, 3.        ],\n",
       "       [1.        , 5.        , 6.3557533 , 4.        ]])"
      ]
     },
     "execution_count": 21,
     "metadata": {},
     "output_type": "execute_result"
    }
   ],
   "source": [
    "# метрику не прописываем – расстояния уже готовые\n",
    "# а метод агрегирования по-прежнему обязателен\n",
    "\n",
    "hierarchy.linkage(D, method = 'complete')"
   ]
  },
  {
   "cell_type": "markdown",
   "metadata": {},
   "source": [
    "Python выдал какой-то результат, не совсем корректный, и при этом вывел сообщение про «подозрительную» матрицу, которая выглядит как *uncondensed distance matrix*, то есть матрица расстояний в некомпактной форме. Как получить компактную форму (и заодно увидеть, какая она)? Воспользоваться функцией `squareform()` из того же набора `distance`:  "
   ]
  },
  {
   "cell_type": "code",
   "execution_count": 22,
   "metadata": {},
   "outputs": [
    {
     "data": {
      "text/plain": [
       "array([4.33, 1.33, 2.33, 3.  , 2.  , 1.  ])"
      ]
     },
     "execution_count": 22,
     "metadata": {},
     "output_type": "execute_result"
    }
   ],
   "source": [
    "distance.squareform(D)"
   ]
  },
  {
   "cell_type": "markdown",
   "metadata": {},
   "source": [
    "Итак, всё просто: компактная форма матрицы расстояний – это просто набор её значений над главной диагональю! Что удобно, функция `squareform()` работает в две стороны: она может и симметричную матрицу свернуть в компактный вид, и компактную форму преобразовать в поноценную квадратную матрицу (она сама распознаёт, что ей подано на вход):"
   ]
  },
  {
   "cell_type": "code",
   "execution_count": 23,
   "metadata": {},
   "outputs": [
    {
     "data": {
      "text/plain": [
       "array([[0.  , 4.33, 1.33, 2.33],\n",
       "       [4.33, 0.  , 3.  , 2.  ],\n",
       "       [1.33, 3.  , 0.  , 1.  ],\n",
       "       [2.33, 2.  , 1.  , 0.  ]])"
      ]
     },
     "execution_count": 23,
     "metadata": {},
     "output_type": "execute_result"
    }
   ],
   "source": [
    "# для иллюстрации – применяем функцию дважды\n",
    "# из короткой формы выше получили снова большую матрицу\n",
    "\n",
    "distance.squareform(distance.squareform(D))"
   ]
  },
  {
   "cell_type": "markdown",
   "metadata": {},
   "source": [
    "Финальный аккорд – подставляем компактную форму нашей матрицы в `linkage()` и сравниваем результаты с «автоматикой»:"
   ]
  },
  {
   "cell_type": "code",
   "execution_count": 24,
   "metadata": {},
   "outputs": [
    {
     "data": {
      "text/plain": [
       "array([[2.  , 3.  , 1.  , 2.  ],\n",
       "       [0.  , 4.  , 2.33, 3.  ],\n",
       "       [1.  , 5.  , 4.33, 4.  ]])"
      ]
     },
     "execution_count": 24,
     "metadata": {},
     "output_type": "execute_result"
    }
   ],
   "source": [
    "hc2 = hierarchy.linkage(distance.squareform(D), method = 'complete')\n",
    "hc2"
   ]
  },
  {
   "cell_type": "code",
   "execution_count": 25,
   "metadata": {},
   "outputs": [
    {
     "data": {
      "text/plain": [
       "array([[2.  , 3.  , 1.  , 2.  ],\n",
       "       [0.  , 4.  , 2.33, 3.  ],\n",
       "       [1.  , 5.  , 4.33, 4.  ]])"
      ]
     },
     "execution_count": 25,
     "metadata": {},
     "output_type": "execute_result"
    }
   ],
   "source": [
    "hc"
   ]
  },
  {
   "cell_type": "markdown",
   "metadata": {},
   "source": [
    "Совпало! А значит, мы точно знаем, что порядок действий правильный, и матрицу `D` мы можем формировать каким-то более интересным образом."
   ]
  }
 ],
 "metadata": {
  "kernelspec": {
   "display_name": "Python 3",
   "language": "python",
   "name": "python3"
  },
  "language_info": {
   "codemirror_mode": {
    "name": "ipython",
    "version": 3
   },
   "file_extension": ".py",
   "mimetype": "text/x-python",
   "name": "python",
   "nbconvert_exporter": "python",
   "pygments_lexer": "ipython3",
   "version": "3.7.4"
  }
 },
 "nbformat": 4,
 "nbformat_minor": 2
}
