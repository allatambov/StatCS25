{
 "cells": [
  {
   "cell_type": "markdown",
   "metadata": {},
   "source": [
    "## Теория вероятностей и математическая статистика\n",
    "### ANOVA: однофакторный дисперсионный анализ \n",
    "\n",
    "*Алла Тамбовцева*\n",
    "\n",
    "Импортируем необходимые библиотеки, модули и функции:\n",
    "\n",
    "* библиотеку `pandas` для обработки данных;\n",
    "* модуль `api` из библиотеки `statsmodels` для запуска статистических функций;\n",
    "* функцию `ols()` для оценки линейной модели (нужна для ANOVA)."
   ]
  },
  {
   "cell_type": "code",
   "execution_count": 2,
   "metadata": {},
   "outputs": [],
   "source": [
    "import pandas as pd\n",
    "import statsmodels.api as sm\n",
    "from statsmodels.formula.api import ols"
   ]
  },
  {
   "cell_type": "markdown",
   "metadata": {},
   "source": [
    "### Часть 1: данные по городам\n",
    "\n",
    "Загрузим данные из файла `cities.csv` и посмотрим на первые 5 строк датафрейма:"
   ]
  },
  {
   "cell_type": "code",
   "execution_count": 3,
   "metadata": {},
   "outputs": [
    {
     "name": "stdout",
     "output_type": "stream",
     "text": [
      "   Unnamed: 0   city  height\n",
      "0           0  Сиэтл     943\n",
      "1           1  Сиэтл     740\n",
      "2           2  Сиэтл     735\n",
      "3           3  Сиэтл     722\n",
      "4           4  Сиэтл     609\n"
     ]
    }
   ],
   "source": [
    "df = pd.read_csv(\"https://raw.githubusercontent.com/allatambov/StatCS25/refs/heads/main/cities.csv\")\n",
    "print(df.head())"
   ]
  },
  {
   "cell_type": "markdown",
   "metadata": {},
   "source": [
    "Для базового примера были взяты небольшие учебные данные из задачника, работа с которыми подробно разбирается в главе про ANOVA, чтобы можно было убедиться, что Python выполняет ровно те же действия при реализации однофакторного анализа, что и задумано по классическому алгоритму (без поправок и дополнений). \n",
    "\n",
    "В датафрейме `df` сохранены значения высоты домов в футах в четырех городах: Сиэтл, Монреаль, Новый Орлеан, Питсбург. Задача – сравнить среднюю высоту домов в этих городах на основе выборок значений. Начнем с описательных статистик. Сгруппируем строки по городу (столбец `city`) и выведем описательные статисики для высоты (столбец `height`):"
   ]
  },
  {
   "cell_type": "code",
   "execution_count": 4,
   "metadata": {},
   "outputs": [
    {
     "name": "stdout",
     "output_type": "stream",
     "text": [
      "              count   mean         std    min    25%    50%     75%    max\n",
      "city                                                                      \n",
      "Монреаль       17.0  509.0   96.171721  355.0  443.0  479.0  612.00  669.0\n",
      "Новый Орлеан   10.0  510.0   94.196013  406.0  445.5  479.5  530.75  697.0\n",
      "Питсбург       15.0  539.0  126.971313  420.0  436.0  485.0  615.50  841.0\n",
      "Сиэтл          23.0  550.0  143.615332  193.0  483.5  520.0  592.50  943.0\n"
     ]
    }
   ],
   "source": [
    "print(df.groupby(\"city\")[\"height\"].describe())"
   ]
  },
  {
   "cell_type": "markdown",
   "metadata": {},
   "source": [
    "Что мы видим? Во-первых, выборки не очень большие, все менее 30 наблюдений. Но пример учебный, изначально рассчитанный на вычисления руками, поэтому все в порядке. Во-вторых, нельзя сказать, что средние по группам очень сильно отличаются друг от друга. Формально отличия есть, но стандартные отклонения по каждой группе довольно большие, вряд ли в совокупности разброс значений высоты будет настолько маленьким, что небольшие значения разностей средних можно будет счесть значительными.\n",
    "\n",
    "Также отметим, что распределение `height` во всех группах не совсем симметрично, немного скошено вправо – среднее в каждой группе превышает медиану (на 30 и более футов). Убедимся в этом, построив гистограммы и ящики с усами по группам:"
   ]
  },
  {
   "cell_type": "code",
   "execution_count": 5,
   "metadata": {},
   "outputs": [
    {
     "data": {
      "image/png": "[encoded data removed]",
      "text/plain": [
       "<Figure size 432x288 with 4 Axes>"
      ]
     },
     "metadata": {
      "needs_background": "light"
     },
     "output_type": "display_data"
    },
    {
     "data": {
      "image/png": "[encoded data removed]",
      "text/plain": [
       "<Figure size 432x288 with 1 Axes>"
      ]
     },
     "metadata": {
      "needs_background": "light"
     },
     "output_type": "display_data"
    }
   ],
   "source": [
    "df.hist(\"height\", by = \"city\", edgecolor = \"white\");\n",
    "df.boxplot(\"height\", by = \"city\");"
   ]
  },
  {
   "cell_type": "markdown",
   "metadata": {},
   "source": [
    "Так и есть, действительно, распределение высоты домов в каждом городе скошено вправо, в выборках для Нового Орлеана и Сиэтла даже встречаются нехарактерные значения. Означает ли это, что для дальнейшего сравнения средних ANOVA с предположением нормальности распределения в каждой группе не применима? Нет, поскольку на практике это требование часто ослабляется, если нет серьезных оснований считать, что распределение теоретически нормальным быть не может (дискретные данные, скошенность из-за характера данных). В данном случае нельзя категорично сказать, что распределение высоты домов в крупных городах с разнообразной застройкой нормальным быть не может, плюс, выборки достаточно маленькими, скошенность может возникать из-за небольшого числа наблюдений.\n",
    "\n",
    "Поэтому отметим, что медианные высоты по группам тоже очень близки и перейдем к проверке гипотез. Итак:\n",
    "\n",
    "$$\n",
    "H_0: a_1  = a_2 = a_3 = a_4 = a \n",
    "$$\n",
    "$$\n",
    "H_1: \\exists j \\text{ } a_j \\ne a\n",
    "$$\n",
    "\n",
    "В Python в модуле `stats` библиотеки `scipy` есть функция `f_oneway()` для реализации ANOVA, однако эта функция выдает только наблюдаемое значение F-статистики и p-value, без подробной таблицы с разложением вариации. Поэтому пойдем по более длинному пути – построим линейную регрессионную модель, где зависимой переменной является `height`, а независимой – `city`, а затем запросим для результатов оценки такой модели ANOVA-таблицу:"
   ]
  },
  {
   "cell_type": "code",
   "execution_count": 6,
   "metadata": {},
   "outputs": [
    {
     "name": "stdout",
     "output_type": "stream",
     "text": [
      "            df         sum_sq       mean_sq         F    PR(>F)\n",
      "city       3.0   21889.784615   7296.594872  0.490567  0.690129\n",
      "Residual  61.0  907302.000000  14873.803279       NaN       NaN\n"
     ]
    }
   ],
   "source": [
    "# ols() – ordinary least squares, метод наименьших квадратов\n",
    "# fit() – оценка модели\n",
    "# anova_lm() – таблица ANOVA на основе линейной модели\n",
    "\n",
    "mod = ols('height ~ city', data = df).fit()\n",
    "tab = sm.stats.anova_lm(mod)\n",
    "print(tab)"
   ]
  },
  {
   "cell_type": "markdown",
   "metadata": {},
   "source": [
    "Строка `city` здесь отвечает за показатели, посчитанные для межгрупповых различий, то есть за описание той части дисперсии данных, которую можно объяснить делением на группы. Так как именно обоснованность такого деления мы и пытаемся проверить с помощью модели, `sum_sq` в этой строке – и есть $MSS$ (*model sum of squares*) или $SS_{between}$ (*sum of squares between groups*).\n",
    "\n",
    "Строка `residual` отвечает за показатели, посчитанные для внутригрупповых различий, то есть за описание той части дисперсии данных, которая не объясняется делением на группы, а значит, не объясняется моделью. Отсюда и название – остаточная сумма квадратов, `sum_sq` в этой строке – $RSS$ (*residual sum of squares*) или $SS_{within}$ (*sum of squares within groups*).\n",
    "\n",
    "В столбце `df` сохранены значения числа степеней свободы. В первом случае $\\text{df} = k-1$, где $k$ – число групп, поэтому здесь 3. Во втором случае $\\text{df} = n-k$, где $n$ – число наблюдений, в данном датафрейме 65 строк, поэтому здесь 61.\n",
    "\n",
    "В столбце `mean_sq` сохранены средние суммы квадратов отклонений от среднего:\n",
    "\n",
    "* *Mean MSS* или $MS_{between} = \\frac{21889.78}{3} = 7296.59$\n",
    "* *Mean RSS* или $MS_{within} = \\frac{907302}{61} = 14873.80$.\n",
    "\n",
    "Чтобы проверить, можно ли считать, что разнообразие значений высоты в четырех разных городах действительно объясняется делением на четыре группы, сравним оценки межгрупповой дисперсии и внутригрупповой – вычислим наблюдаемое значение F-статистики:\n",
    "\n",
    "$$\n",
    "F = \\frac{7296.59}{14873.80} = 0.49\n",
    "$$\n",
    "\n",
    "Значение довольно маленькое, меньше 1, а значит, нельзя сказать, что межгрупповая дисперсия выше. Посмотрим на `p-value`, которое в таблице обозначено как `PR(>F)`. Итого:\n",
    "\n",
    "$$\n",
    "\\text{pvalue} = \\text{P}(F > 0.49) = 0.69\n",
    "$$\n",
    "\n",
    "Очень большое значение, на любом разумном уровне значимости (1\\%, 5\\%, 10\\%) нулевая гипотеза не отвергается. Следовательно, среднюю высотов домов в четырех городах можно считать равной.\n",
    "\n",
    "**Дополнение.** В ANOVA-таблице выше есть значения `NaN`, это нормально. Так как по логике статистического критерия именно оценку межгрупповой дисперсии нужно делить на оценку внутригрупповой дисперсии, а не наоборот, другое значение `F` невозможно (и `p-value`, соответственно, тоже)."
   ]
  },
  {
   "cell_type": "markdown",
   "metadata": {},
   "source": [
    "Давайте немного доработаем таблицу выше и добавим в неё общую сумму квадратов $TSS$ (*total sum of squares*). Для этого просто выберем и сложим $MSS$ и $RSS$ из таблицы:"
   ]
  },
  {
   "cell_type": "code",
   "execution_count": 7,
   "metadata": {},
   "outputs": [
    {
     "name": "stdout",
     "output_type": "stream",
     "text": [
      "929191.7846153844\n"
     ]
    }
   ],
   "source": [
    "MSS = tab[\"sum_sq\"][0]\n",
    "RSS = tab[\"sum_sq\"][1]\n",
    "TSS = MSS + RSS\n",
    "print(TSS)"
   ]
  },
  {
   "cell_type": "markdown",
   "metadata": {},
   "source": [
    "Чтобы к ANOVA-таблице `tab` выше добавить строку со всем необходимым для оценки общей дисперсии, зафиксируем число наблюдений, которое понадобится нам для вычисления *Mean TSS*. "
   ]
  },
  {
   "cell_type": "code",
   "execution_count": 8,
   "metadata": {},
   "outputs": [
    {
     "name": "stdout",
     "output_type": "stream",
     "text": [
      "65\n"
     ]
    }
   ],
   "source": [
    "# число строк, внутри shape – пара \n",
    "# число строк-число столбцов\n",
    "\n",
    "n = df.shape[0]\n",
    "print(n)"
   ]
  },
  {
   "cell_type": "markdown",
   "metadata": {},
   "source": [
    "Сформируем строку для добавления к `tab` – это будет маленький датафрейм из единственной строки с TSS. Создадим датафрейм на основе списка словарей, один словарь в списке соответствует одной строке:"
   ]
  },
  {
   "cell_type": "code",
   "execution_count": 9,
   "metadata": {},
   "outputs": [
    {
     "data": {
      "text/html": [
       "<div>\n",
       "<style scoped>\n",
       "    .dataframe tbody tr th:only-of-type {\n",
       "        vertical-align: middle;\n",
       "    }\n",
       "\n",
       "    .dataframe tbody tr th {\n",
       "        vertical-align: top;\n",
       "    }\n",
       "\n",
       "    .dataframe thead th {\n",
       "        text-align: right;\n",
       "    }\n",
       "</style>\n",
       "<table border=\"1\" class=\"dataframe\">\n",
       "  <thead>\n",
       "    <tr style=\"text-align: right;\">\n",
       "      <th></th>\n",
       "      <th>df</th>\n",
       "      <th>sum_sq</th>\n",
       "      <th>mean_sq</th>\n",
       "    </tr>\n",
       "  </thead>\n",
       "  <tbody>\n",
       "    <tr>\n",
       "      <th>0</th>\n",
       "      <td>64</td>\n",
       "      <td>929191.784615</td>\n",
       "      <td>14518.621635</td>\n",
       "    </tr>\n",
       "  </tbody>\n",
       "</table>\n",
       "</div>"
      ],
      "text/plain": [
       "   df         sum_sq       mean_sq\n",
       "0  64  929191.784615  14518.621635"
      ]
     },
     "execution_count": 9,
     "metadata": {},
     "output_type": "execute_result"
    }
   ],
   "source": [
    "row = pd.DataFrame([{\"df\" : n - 1, \n",
    "                    \"sum_sq\" : TSS, \n",
    "                    \"mean_sq\" : TSS / (n - 1)}])\n",
    "row"
   ]
  },
  {
   "cell_type": "markdown",
   "metadata": {},
   "source": [
    "Готово! Склеиваем `tab` и `row` по строкам через функцию `concat()` и меняем названия строк в `.index` на более привычные:"
   ]
  },
  {
   "cell_type": "code",
   "execution_count": 10,
   "metadata": {},
   "outputs": [
    {
     "data": {
      "text/html": [
       "<div>\n",
       "<style scoped>\n",
       "    .dataframe tbody tr th:only-of-type {\n",
       "        vertical-align: middle;\n",
       "    }\n",
       "\n",
       "    .dataframe tbody tr th {\n",
       "        vertical-align: top;\n",
       "    }\n",
       "\n",
       "    .dataframe thead th {\n",
       "        text-align: right;\n",
       "    }\n",
       "</style>\n",
       "<table border=\"1\" class=\"dataframe\">\n",
       "  <thead>\n",
       "    <tr style=\"text-align: right;\">\n",
       "      <th></th>\n",
       "      <th>df</th>\n",
       "      <th>sum_sq</th>\n",
       "      <th>mean_sq</th>\n",
       "      <th>F</th>\n",
       "      <th>PR(&gt;F)</th>\n",
       "    </tr>\n",
       "  </thead>\n",
       "  <tbody>\n",
       "    <tr>\n",
       "      <th>MSS</th>\n",
       "      <td>3.0</td>\n",
       "      <td>21889.784615</td>\n",
       "      <td>7296.594872</td>\n",
       "      <td>0.490567</td>\n",
       "      <td>0.690129</td>\n",
       "    </tr>\n",
       "    <tr>\n",
       "      <th>RSS</th>\n",
       "      <td>61.0</td>\n",
       "      <td>907302.000000</td>\n",
       "      <td>14873.803279</td>\n",
       "      <td>NaN</td>\n",
       "      <td>NaN</td>\n",
       "    </tr>\n",
       "    <tr>\n",
       "      <th>TSS</th>\n",
       "      <td>64.0</td>\n",
       "      <td>929191.784615</td>\n",
       "      <td>14518.621635</td>\n",
       "      <td>NaN</td>\n",
       "      <td>NaN</td>\n",
       "    </tr>\n",
       "  </tbody>\n",
       "</table>\n",
       "</div>"
      ],
      "text/plain": [
       "       df         sum_sq       mean_sq         F    PR(>F)\n",
       "MSS   3.0   21889.784615   7296.594872  0.490567  0.690129\n",
       "RSS  61.0  907302.000000  14873.803279       NaN       NaN\n",
       "TSS  64.0  929191.784615  14518.621635       NaN       NaN"
      ]
     },
     "execution_count": 10,
     "metadata": {},
     "output_type": "execute_result"
    }
   ],
   "source": [
    "fin = pd.concat([tab, row])\n",
    "fin.index = [\"MSS\", \"RSS\", \"TSS\"]\n",
    "fin"
   ]
  },
  {
   "cell_type": "markdown",
   "metadata": {},
   "source": [
    "Используя таблицу выше, можем вычислить долю дисперсии, объясненной моделью, то есть долю изменчивости данных, которую можно объяснить делением на группы. Другими словами, вычислить $R^2$ (еще называют коэффициентом детерминации):\n",
    "\n",
    "$$\n",
    "R^2 = \\frac{MSS}{TSS}\n",
    "$$"
   ]
  },
  {
   "cell_type": "code",
   "execution_count": 11,
   "metadata": {},
   "outputs": [
    {
     "name": "stdout",
     "output_type": "stream",
     "text": [
      "0.02355787575591331\n"
     ]
    }
   ],
   "source": [
    "print(fin.loc[\"MSS\", \"sum_sq\"] / fin.loc[\"TSS\", \"sum_sq\"])"
   ]
  },
  {
   "cell_type": "markdown",
   "metadata": {},
   "source": [
    "Значение очень низкое, что неудивительно – мы уже выяснили, что различий в средних по группам нет, а значит, модель, описывающая различия делением на группы, не самая удачная с точки зрения объясняющей силы."
   ]
  },
  {
   "cell_type": "markdown",
   "metadata": {},
   "source": [
    "Полная ANOVA-таблица готова, при желании ее можно выгрузить в любой формат – в LaTeX, Markdown, HTML и прочие:"
   ]
  },
  {
   "cell_type": "code",
   "execution_count": 12,
   "metadata": {},
   "outputs": [
    {
     "name": "stdout",
     "output_type": "stream",
     "text": [
      "\\begin{tabular}{lrrrrr}\n",
      "\\toprule\n",
      "{} &    df &         sum\\_sq &       mean\\_sq &         F &    PR(>F) \\\\\n",
      "\\midrule\n",
      "MSS &   3.0 &   21889.784615 &   7296.594872 &  0.490567 &  0.690129 \\\\\n",
      "RSS &  61.0 &  907302.000000 &  14873.803279 &       NaN &       NaN \\\\\n",
      "TSS &  64.0 &  929191.784615 &  14518.621635 &       NaN &       NaN \\\\\n",
      "\\bottomrule\n",
      "\\end{tabular}\n",
      "\n"
     ]
    }
   ],
   "source": [
    "print(fin.to_latex())"
   ]
  },
  {
   "cell_type": "code",
   "execution_count": 13,
   "metadata": {},
   "outputs": [
    {
     "name": "stdout",
     "output_type": "stream",
     "text": [
      "<table border=\"1\" class=\"dataframe\">\n",
      "  <thead>\n",
      "    <tr style=\"text-align: right;\">\n",
      "      <th></th>\n",
      "      <th>df</th>\n",
      "      <th>sum_sq</th>\n",
      "      <th>mean_sq</th>\n",
      "      <th>F</th>\n",
      "      <th>PR(&gt;F)</th>\n",
      "    </tr>\n",
      "  </thead>\n",
      "  <tbody>\n",
      "    <tr>\n",
      "      <th>MSS</th>\n",
      "      <td>3.0</td>\n",
      "      <td>21889.784615</td>\n",
      "      <td>7296.594872</td>\n",
      "      <td>0.490567</td>\n",
      "      <td>0.690129</td>\n",
      "    </tr>\n",
      "    <tr>\n",
      "      <th>RSS</th>\n",
      "      <td>61.0</td>\n",
      "      <td>907302.000000</td>\n",
      "      <td>14873.803279</td>\n",
      "      <td>NaN</td>\n",
      "      <td>NaN</td>\n",
      "    </tr>\n",
      "    <tr>\n",
      "      <th>TSS</th>\n",
      "      <td>64.0</td>\n",
      "      <td>929191.784615</td>\n",
      "      <td>14518.621635</td>\n",
      "      <td>NaN</td>\n",
      "      <td>NaN</td>\n",
      "    </tr>\n",
      "  </tbody>\n",
      "</table>\n"
     ]
    }
   ],
   "source": [
    "print(fin.to_html())"
   ]
  },
  {
   "cell_type": "markdown",
   "metadata": {},
   "source": [
    "### Часть 2: данные по диетам"
   ]
  },
  {
   "cell_type": "markdown",
   "metadata": {},
   "source": [
    "В файле `Diets.csv` хранятся результаты обследования участников эксперимента, которые следовали разным типам диеты. Переменные в файле:\n",
    "\n",
    "* `Person`: id участника;\n",
    "* `gender`: пол участника (0 – женский, 1 – мужской);\n",
    "* `Age`: возраст участника;\n",
    "* `Height`: рост участника (в см);\n",
    "* `pre.weight`: вес участника на начало эксперимента (в кг);\n",
    "* `weight6week`: вес участника на конец эксперимента (в кг).\n",
    "* `Diet`: тип диеты (1, 2, 3);\n",
    "* `Diff`: разница в весе до диеты и после, количество сброшенных килограммов после 6 недель диеты.\n",
    "\n",
    "Загрузим данные и посмотрим на первые 5 строк таблицы:"
   ]
  },
  {
   "cell_type": "code",
   "execution_count": 14,
   "metadata": {},
   "outputs": [
    {
     "name": "stdout",
     "output_type": "stream",
     "text": [
      "   Unnamed: 0  Person  gender  Age  Height  pre.weight  Diet  weight6weeks  \\\n",
      "0           0      25     NaN   41     171          60     2          60.0   \n",
      "1           1      26     NaN   32     174         103     2         103.0   \n",
      "2           2       1     0.0   22     159          58     1          54.2   \n",
      "3           3       2     0.0   46     192          60     1          54.0   \n",
      "4           4       3     0.0   55     170          64     1          63.3   \n",
      "\n",
      "   Diff  \n",
      "0   0.0  \n",
      "1   0.0  \n",
      "2   3.8  \n",
      "3   6.0  \n",
      "4   0.7  \n"
     ]
    }
   ],
   "source": [
    "diets = pd.read_csv(\"https://raw.githubusercontent.com/allatambov/StatCS25/refs/heads/main/Diets.csv\")\n",
    "print(diets.head())"
   ]
  },
  {
   "cell_type": "markdown",
   "metadata": {},
   "source": [
    "Чтобы сравнить эффективность диет, определяемую через снижение веса, логично будет сравнить среднюю потерю веса в трех группах (диета 1, диета 2, диета 3). Для начала выведем описательные статистики по группам:"
   ]
  },
  {
   "cell_type": "code",
   "execution_count": 15,
   "metadata": {},
   "outputs": [
    {
     "data": {
      "text/html": [
       "<div>\n",
       "<style scoped>\n",
       "    .dataframe tbody tr th:only-of-type {\n",
       "        vertical-align: middle;\n",
       "    }\n",
       "\n",
       "    .dataframe tbody tr th {\n",
       "        vertical-align: top;\n",
       "    }\n",
       "\n",
       "    .dataframe thead th {\n",
       "        text-align: right;\n",
       "    }\n",
       "</style>\n",
       "<table border=\"1\" class=\"dataframe\">\n",
       "  <thead>\n",
       "    <tr style=\"text-align: right;\">\n",
       "      <th></th>\n",
       "      <th>count</th>\n",
       "      <th>mean</th>\n",
       "      <th>std</th>\n",
       "    </tr>\n",
       "    <tr>\n",
       "      <th>Diet</th>\n",
       "      <th></th>\n",
       "      <th></th>\n",
       "      <th></th>\n",
       "    </tr>\n",
       "  </thead>\n",
       "  <tbody>\n",
       "    <tr>\n",
       "      <th>1</th>\n",
       "      <td>24.0</td>\n",
       "      <td>3.300000</td>\n",
       "      <td>2.240148</td>\n",
       "    </tr>\n",
       "    <tr>\n",
       "      <th>2</th>\n",
       "      <td>27.0</td>\n",
       "      <td>3.025926</td>\n",
       "      <td>2.523367</td>\n",
       "    </tr>\n",
       "    <tr>\n",
       "      <th>3</th>\n",
       "      <td>27.0</td>\n",
       "      <td>5.148148</td>\n",
       "      <td>2.395568</td>\n",
       "    </tr>\n",
       "  </tbody>\n",
       "</table>\n",
       "</div>"
      ],
      "text/plain": [
       "      count      mean       std\n",
       "Diet                           \n",
       "1      24.0  3.300000  2.240148\n",
       "2      27.0  3.025926  2.523367\n",
       "3      27.0  5.148148  2.395568"
      ]
     },
     "execution_count": 15,
     "metadata": {},
     "output_type": "execute_result"
    }
   ],
   "source": [
    "# группируем по Diet, для Diff из результатов .describe()\n",
    "# забираем count, mean, std\n",
    "\n",
    "diets.groupby(\"Diet\")[\"Diff\"].describe()[[\"count\", \"mean\", \"std\"]]"
   ]
  },
  {
   "cell_type": "markdown",
   "metadata": {},
   "source": [
    "Группы участников в этот раз тоже не очень большие, но некритично. Среднее число килограммов, которые были потеряны в течение следования первым двум диетам, отличается несильно (3.3 vs 3.03), а вот среднее число килограммов, потерянных при следовании третьей диете явно выше (5.15). Есть основания ожидать, что не все средние значения `Diff` по группам равны. Приступим к проверке гипотез с помощью ANOVA:\n",
    "\n",
    "$$\n",
    "H_0: a_1 = a_2 = a_3 = a\n",
    "$$\n",
    "$$\n",
    "H_1: \\exists j \\text{ } a_j \\ne a\n",
    "$$"
   ]
  },
  {
   "cell_type": "markdown",
   "metadata": {},
   "source": [
    "Прежде, чем это сделать, учтем один важный нюанс. В данном случае название групп – не текстовое (например, диеты A, B, C), а числовое (целые числа 1, 2, 3). Так как для получения ANOVA-таблицы мы предварительно строим линейную регрессионную модель, включать в нее тип диеты в виде числа некорректно. Модель будет оцениваться в предположении, что обе переменных – в количественной шкале, и базироваться на корреляции между потерей веса и порядковым номером диеты, которая здесь содержательно не имеет смысла.\n",
    "\n",
    "Чтобы не изменять сам столбец `Diet`, в уравнении внутри `ols()` вокруг `Diet` добавим функцию `C()`, в `statsmodels` это означает, что переменная категориальная (*categorical*), то есть качественная:"
   ]
  },
  {
   "cell_type": "code",
   "execution_count": 16,
   "metadata": {},
   "outputs": [
    {
     "name": "stdout",
     "output_type": "stream",
     "text": [
      "            df      sum_sq    mean_sq         F    PR(>F)\n",
      "C(Diet)    2.0   71.093689  35.546845  6.197447  0.003229\n",
      "Residual  75.0  430.179259   5.735723       NaN       NaN\n"
     ]
    }
   ],
   "source": [
    "model_d = ols('Diff ~ C(Diet)', data = diets).fit()\n",
    "anova = sm.stats.anova_lm(model_d)\n",
    "print(anova)"
   ]
  },
  {
   "cell_type": "markdown",
   "metadata": {},
   "source": [
    "Так как подробно устройство таблицы уже обсуждали выше, сфокусируемся на последних двух столбцах. Наблюдаемое значение F-статистики достаточно высокое, а p-value – низкое. На любом разумном уровне значимости (1%, 5%, 10%) нулевую гипотезу необходимо отвергнуть. Не все средние равны, диеты отличаются по эффективности, если эффективнось определять как среднюю потерю веса в течение следования диете.\n",
    "\n",
    "К слову, значение $R^2$ можно вычислить и без манипуляций с TSS, его можно вызвать из самой модели `model_d`, без ANOVA-таблицы (о же будет актуально потом для регрессий):"
   ]
  },
  {
   "cell_type": "code",
   "execution_count": 17,
   "metadata": {},
   "outputs": [
    {
     "name": "stdout",
     "output_type": "stream",
     "text": [
      "0.14182630369446003\n"
     ]
    }
   ],
   "source": [
    "# модель объясняет 14% вариации данных, маловато\n",
    "\n",
    "print(model_d.rsquared)"
   ]
  },
  {
   "cell_type": "markdown",
   "metadata": {},
   "source": [
    "Остановимся на средних поподробнее. Построим для среднего значения `Diff` по каждой группе 95%-ный доверительный интервал. Но сначала отфильтуем данные – сформируем три набора значений потери веса `Diff`:"
   ]
  },
  {
   "cell_type": "code",
   "execution_count": 18,
   "metadata": {},
   "outputs": [
    {
     "name": "stdout",
     "output_type": "stream",
     "text": [
      "2    3.8\n",
      "3    6.0\n",
      "4    0.7\n",
      "5    2.9\n",
      "6    2.8\n",
      "Name: Diff, dtype: float64\n"
     ]
    }
   ],
   "source": [
    "# отбираем строки для каждого типа диеты\n",
    "# забираем значения из столбца Diff\n",
    "\n",
    "one = diets[diets[\"Diet\"] == 1][\"Diff\"]\n",
    "two = diets[diets[\"Diet\"] == 2][\"Diff\"]\n",
    "three = diets[diets[\"Diet\"] == 3][\"Diff\"]\n",
    "\n",
    "# один набор данных – pandas Series,\n",
    "# массив значений + индексы\n",
    "\n",
    "print(one.head()) "
   ]
  },
  {
   "cell_type": "markdown",
   "metadata": {},
   "source": [
    "Импортируем модуль `stats` из библиотеки `scipy` и воспользуемся некоторыми функциями:\n",
    "* функция `t.interval()` – для построения симметричного интервала на основе распределения Стьюдента;\n",
    "* функция `sem()` – для вычисления стандартной ошибки среднего ($SE = \\frac{s}{\\sqrt{n}}$)."
   ]
  },
  {
   "cell_type": "code",
   "execution_count": 19,
   "metadata": {},
   "outputs": [
    {
     "name": "stdout",
     "output_type": "stream",
     "text": [
      "(2.3540686667368274, 4.245931333263171)\n",
      "(2.0277153508690646, 4.024136500982788)\n",
      "(4.200492976467615, 6.095803319828679)\n"
     ]
    }
   ],
   "source": [
    "from scipy import stats\n",
    "\n",
    "# loc – середина интервала, само значение оценки (среднее выборки)\n",
    "# scale – разброс, стандартное отклонение оценки (стандартная ошибка среднего)\n",
    "# на первом месте указываем уровень доверия\n",
    "# в df фиксируем число степеней свободы df = n - 1\n",
    "\n",
    "print(stats.t.interval(0.95, loc = one.mean(), \n",
    "                       scale = stats.sem(one), \n",
    "                       df = one.size - 1))\n",
    "print(stats.t.interval(0.95, loc = two.mean(), \n",
    "                       scale = stats.sem(two),\n",
    "                       df = two.size - 1))\n",
    "print(stats.t.interval(0.95, \n",
    "                       loc = three.mean(), \n",
    "                       scale = stats.sem(three), \n",
    "                       df = three.size - 1))"
   ]
  },
  {
   "cell_type": "markdown",
   "metadata": {},
   "source": [
    "В итоге мы получили три 95%-ных доверительных интервала для средней потери веса при следовании разным диетам. Последний интервал сильно отличается от первых двух, он точно с ними не пересекается. Это означает, что на 95%-ном уровне доверия можно считать, что третья диета, в среднем, более эффективна, чем первые две. Насчет первых двух диет – не совсем понятно. Доверительные интервалы пересекаются, но сделать из этого вывод, что первые два средних неотличимы при таком уровне доверия, нельзя, надо оценить «масштабы» пересечения. На практике величину пересечений не оценивают, просто переходят от доверительных интервалов к проверке гипотез. \n",
    "\n",
    "Сравним средние в первых двух группах, используя двухвыборочный критерий Стьюдента:\n",
    "\n",
    "$$\n",
    "H_0: a_1 = a_2 \\text{ против } H_1: a_1 \\ne a_2\n",
    "$$"
   ]
  },
  {
   "cell_type": "code",
   "execution_count": 20,
   "metadata": {},
   "outputs": [
    {
     "name": "stdout",
     "output_type": "stream",
     "text": [
      "Ttest_indResult(statistic=0.40797824323257154, pvalue=0.6850668861405854)\n"
     ]
    }
   ],
   "source": [
    "print(stats.ttest_ind(one, two))"
   ]
  },
  {
   "cell_type": "markdown",
   "metadata": {},
   "source": [
    "Наблюдаемое значение статистики близко к 0, p-value примерно 0.69. Нулевая гипотеза на любом разумном уровне значимости не отвергается, средние можно считать равными.\n",
    "\n",
    "Проделаем заодно подобную операцию с другими парами групп (здесь всего три пары, 1 и 2, 2 и 3, 1 и 3):"
   ]
  },
  {
   "cell_type": "code",
   "execution_count": 21,
   "metadata": {},
   "outputs": [
    {
     "name": "stdout",
     "output_type": "stream",
     "text": [
      "Ttest_indResult(statistic=-3.1693496673045676, pvalue=0.0025599026452984013)\n",
      "Ttest_indResult(statistic=-2.834783037306771, pvalue=0.006644381649741192)\n"
     ]
    }
   ],
   "source": [
    "print(stats.ttest_ind(two, three))\n",
    "print(stats.ttest_ind(one, three))"
   ]
  },
  {
   "cell_type": "markdown",
   "metadata": {},
   "source": [
    "В обоих случаях p-value мало, гипотеза о равенстве средних отвергается, значит, средняя эффективность диет 2 и 3, диет 1 и 3 отличается. Остается любопытный вопрос: а можно ли заменить ANOVA множественным сравнением средних, то есть просто серией t-тестов для всех пар групп? \n",
    "\n",
    "Ответ: без дополнительных корректировок нежелательно, поскольку в серии множественных сравнений возрастает значение ошибки первого рода для всей серии. Чтобы снизить риск такой ошибки, можно провести серию попарных t-тестов, а затем сравнивать p-value не с уровнем значимости $\\alpha$, а с $\\alpha/k$, где $k$ – число сравнений (число проверяемых гипотез). \n",
    "\n",
    "Так, в нашем примере, если мы выберем уровень значимости $\\alpha = 0.05$, сравнивать p-value в выдачах выше нужно будет с $0.05/3\\approx 0.017$. Такая корректировка является очень популярной и называется **поправкой Бонферрони** (*Bonferroni correction*). Про проблему множественных сравнений обзорно можно почитать [здесь](https://en.wikipedia.org/wiki/Multiple_comparisons_problem).\n",
    "\n",
    "**NB.** В ANOVA никаких поправок не делаем, сравниваем p-value с обычным уровнем значимости $\\alpha$, там нет множественных сравнений, оцениваем отношение межгрупповой и внутригрупповой дисперсий."
   ]
  }
 ],
 "metadata": {
  "kernelspec": {
   "display_name": "Python 3",
   "language": "python",
   "name": "python3"
  },
  "language_info": {
   "codemirror_mode": {
    "name": "ipython",
    "version": 3
   },
   "file_extension": ".py",
   "mimetype": "text/x-python",
   "name": "python",
   "nbconvert_exporter": "python",
   "pygments_lexer": "ipython3",
   "version": "3.7.4"
  }
 },
 "nbformat": 4,
 "nbformat_minor": 2
}
